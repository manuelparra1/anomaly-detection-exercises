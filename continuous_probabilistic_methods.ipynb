{
 "cells": [
  {
   "cell_type": "code",
   "execution_count": 1,
   "id": "0c773dc9",
   "metadata": {},
   "outputs": [],
   "source": [
    "from wrangle import *"
   ]
  },
  {
   "cell_type": "code",
   "execution_count": 3,
   "id": "6df5f10e",
   "metadata": {},
   "outputs": [],
   "source": [
    "url = 'https://gist.githubusercontent.com/ryanorsinger/19bc7eccd6279661bd13307026628ace/raw/e4b5d6787015a4782f96cad6d1d62a8bdbac54c7/lemonade.csv'"
   ]
  },
  {
   "cell_type": "code",
   "execution_count": 4,
   "id": "a8eb460a",
   "metadata": {},
   "outputs": [],
   "source": [
    "df = pd.read_csv(url)"
   ]
  },
  {
   "cell_type": "code",
   "execution_count": 5,
   "id": "e99e4792",
   "metadata": {},
   "outputs": [
    {
     "data": {
      "text/html": [
       "<div>\n",
       "<style scoped>\n",
       "    .dataframe tbody tr th:only-of-type {\n",
       "        vertical-align: middle;\n",
       "    }\n",
       "\n",
       "    .dataframe tbody tr th {\n",
       "        vertical-align: top;\n",
       "    }\n",
       "\n",
       "    .dataframe thead th {\n",
       "        text-align: right;\n",
       "    }\n",
       "</style>\n",
       "<table border=\"1\" class=\"dataframe\">\n",
       "  <thead>\n",
       "    <tr style=\"text-align: right;\">\n",
       "      <th></th>\n",
       "      <th>Date</th>\n",
       "      <th>Day</th>\n",
       "      <th>Temperature</th>\n",
       "      <th>Rainfall</th>\n",
       "      <th>Flyers</th>\n",
       "      <th>Price</th>\n",
       "      <th>Sales</th>\n",
       "    </tr>\n",
       "  </thead>\n",
       "  <tbody>\n",
       "    <tr>\n",
       "      <th>0</th>\n",
       "      <td>1/1/17</td>\n",
       "      <td>Sunday</td>\n",
       "      <td>27.0</td>\n",
       "      <td>2.00</td>\n",
       "      <td>15</td>\n",
       "      <td>0.5</td>\n",
       "      <td>10</td>\n",
       "    </tr>\n",
       "    <tr>\n",
       "      <th>1</th>\n",
       "      <td>1/2/17</td>\n",
       "      <td>Monday</td>\n",
       "      <td>28.9</td>\n",
       "      <td>1.33</td>\n",
       "      <td>15</td>\n",
       "      <td>0.5</td>\n",
       "      <td>13</td>\n",
       "    </tr>\n",
       "    <tr>\n",
       "      <th>2</th>\n",
       "      <td>1/3/17</td>\n",
       "      <td>Tuesday</td>\n",
       "      <td>34.5</td>\n",
       "      <td>1.33</td>\n",
       "      <td>27</td>\n",
       "      <td>0.5</td>\n",
       "      <td>15</td>\n",
       "    </tr>\n",
       "    <tr>\n",
       "      <th>3</th>\n",
       "      <td>1/4/17</td>\n",
       "      <td>Wednesday</td>\n",
       "      <td>44.1</td>\n",
       "      <td>1.05</td>\n",
       "      <td>28</td>\n",
       "      <td>0.5</td>\n",
       "      <td>17</td>\n",
       "    </tr>\n",
       "    <tr>\n",
       "      <th>4</th>\n",
       "      <td>1/5/17</td>\n",
       "      <td>Thursday</td>\n",
       "      <td>42.4</td>\n",
       "      <td>1.00</td>\n",
       "      <td>33</td>\n",
       "      <td>0.5</td>\n",
       "      <td>18</td>\n",
       "    </tr>\n",
       "    <tr>\n",
       "      <th>...</th>\n",
       "      <td>...</td>\n",
       "      <td>...</td>\n",
       "      <td>...</td>\n",
       "      <td>...</td>\n",
       "      <td>...</td>\n",
       "      <td>...</td>\n",
       "      <td>...</td>\n",
       "    </tr>\n",
       "    <tr>\n",
       "      <th>360</th>\n",
       "      <td>12/27/17</td>\n",
       "      <td>Wednesday</td>\n",
       "      <td>42.7</td>\n",
       "      <td>1.00</td>\n",
       "      <td>33</td>\n",
       "      <td>0.5</td>\n",
       "      <td>19</td>\n",
       "    </tr>\n",
       "    <tr>\n",
       "      <th>361</th>\n",
       "      <td>12/28/17</td>\n",
       "      <td>Thursday</td>\n",
       "      <td>37.8</td>\n",
       "      <td>1.25</td>\n",
       "      <td>32</td>\n",
       "      <td>0.5</td>\n",
       "      <td>16</td>\n",
       "    </tr>\n",
       "    <tr>\n",
       "      <th>362</th>\n",
       "      <td>12/29/17</td>\n",
       "      <td>Friday</td>\n",
       "      <td>39.5</td>\n",
       "      <td>1.25</td>\n",
       "      <td>17</td>\n",
       "      <td>0.5</td>\n",
       "      <td>15</td>\n",
       "    </tr>\n",
       "    <tr>\n",
       "      <th>363</th>\n",
       "      <td>12/30/17</td>\n",
       "      <td>Saturday</td>\n",
       "      <td>30.9</td>\n",
       "      <td>1.43</td>\n",
       "      <td>22</td>\n",
       "      <td>0.5</td>\n",
       "      <td>13</td>\n",
       "    </tr>\n",
       "    <tr>\n",
       "      <th>364</th>\n",
       "      <td>12/31/17</td>\n",
       "      <td>Sunday</td>\n",
       "      <td>15.1</td>\n",
       "      <td>2.50</td>\n",
       "      <td>9</td>\n",
       "      <td>0.5</td>\n",
       "      <td>7</td>\n",
       "    </tr>\n",
       "  </tbody>\n",
       "</table>\n",
       "<p>365 rows × 7 columns</p>\n",
       "</div>"
      ],
      "text/plain": [
       "         Date        Day  Temperature  Rainfall  Flyers  Price  Sales\n",
       "0      1/1/17     Sunday         27.0      2.00      15    0.5     10\n",
       "1      1/2/17     Monday         28.9      1.33      15    0.5     13\n",
       "2      1/3/17    Tuesday         34.5      1.33      27    0.5     15\n",
       "3      1/4/17  Wednesday         44.1      1.05      28    0.5     17\n",
       "4      1/5/17   Thursday         42.4      1.00      33    0.5     18\n",
       "..        ...        ...          ...       ...     ...    ...    ...\n",
       "360  12/27/17  Wednesday         42.7      1.00      33    0.5     19\n",
       "361  12/28/17   Thursday         37.8      1.25      32    0.5     16\n",
       "362  12/29/17     Friday         39.5      1.25      17    0.5     15\n",
       "363  12/30/17   Saturday         30.9      1.43      22    0.5     13\n",
       "364  12/31/17     Sunday         15.1      2.50       9    0.5      7\n",
       "\n",
       "[365 rows x 7 columns]"
      ]
     },
     "execution_count": 5,
     "metadata": {},
     "output_type": "execute_result"
    }
   ],
   "source": [
    "df"
   ]
  },
  {
   "cell_type": "code",
   "execution_count": 16,
   "id": "89eee59c",
   "metadata": {},
   "outputs": [],
   "source": [
    "def get_lower_and_upper_bounds(series,multiplier):\n",
    "    Q3 = np.quantile(series, 0.75)\n",
    "    Q1 = np.quantile(series, 0.25)\n",
    "    iqr = Q3 - Q1\n",
    "    \n",
    "    upper_bound = Q3+(multiplier*iqr)\n",
    "    lower_bound = Q1-(multiplier*iqr)\n",
    "    \n",
    "    return lower_bound, upper_bound"
   ]
  },
  {
   "cell_type": "markdown",
   "id": "355d137a",
   "metadata": {},
   "source": [
    "# Question: 1"
   ]
  },
  {
   "cell_type": "code",
   "execution_count": 17,
   "id": "3f2a498c",
   "metadata": {},
   "outputs": [],
   "source": [
    "upper_bound, lower_bound = get_lower_and_upper_bounds(df[\"Rainfall\"],1.5)"
   ]
  },
  {
   "cell_type": "markdown",
   "id": "3202db29",
   "metadata": {},
   "source": [
    "# Question: 2"
   ]
  },
  {
   "cell_type": "code",
   "execution_count": 20,
   "id": "22faf08c",
   "metadata": {},
   "outputs": [],
   "source": [
    "norm = df['Rainfall']"
   ]
  },
  {
   "cell_type": "code",
   "execution_count": 39,
   "id": "8ebc68ae",
   "metadata": {},
   "outputs": [],
   "source": [
    "SD = norm.std()\n",
    "norm_median = norm.median()"
   ]
  },
  {
   "cell_type": "code",
   "execution_count": 52,
   "id": "5560228c",
   "metadata": {},
   "outputs": [],
   "source": [
    "total_count = norm.shape[0]"
   ]
  },
  {
   "cell_type": "code",
   "execution_count": 58,
   "id": "52a19a09",
   "metadata": {},
   "outputs": [],
   "source": [
    "one_sd_count = df[(norm >= (norm_median-SD)) & (norm <= (norm_median+SD))].shape[0]"
   ]
  },
  {
   "cell_type": "code",
   "execution_count": 59,
   "id": "c47a828d",
   "metadata": {},
   "outputs": [],
   "source": [
    "two_sd_count = df[(norm >= (norm_median-(SD*2))) & (norm <= (norm_median+(SD*2)))].shape[0]"
   ]
  },
  {
   "cell_type": "code",
   "execution_count": 60,
   "id": "eda8a97b",
   "metadata": {},
   "outputs": [],
   "source": [
    "three_sd_count = df[(norm >= (norm_median-(SD*3))) & (norm <= (norm_median+(SD*3)))].shape[0]"
   ]
  },
  {
   "cell_type": "code",
   "execution_count": 65,
   "id": "e0cdb309",
   "metadata": {},
   "outputs": [],
   "source": [
    "one_sd_proportion = one_sd_count/total_count"
   ]
  },
  {
   "cell_type": "code",
   "execution_count": 66,
   "id": "7cbba632",
   "metadata": {},
   "outputs": [],
   "source": [
    "two_sd_proportion = two_sd_count/total_count"
   ]
  },
  {
   "cell_type": "code",
   "execution_count": 67,
   "id": "4665e774",
   "metadata": {},
   "outputs": [],
   "source": [
    "three_sd_proportion = three_sd_count/total_count"
   ]
  },
  {
   "cell_type": "code",
   "execution_count": 70,
   "id": "8ec3d9a6",
   "metadata": {},
   "outputs": [],
   "source": [
    "normal_distribution = [68,95,99.7]"
   ]
  },
  {
   "cell_type": "code",
   "execution_count": 69,
   "id": "f8382d81",
   "metadata": {},
   "outputs": [
    {
     "data": {
      "text/plain": [
       "(0.8191780821917808, 0.9232876712328767, 0.9863013698630136)"
      ]
     },
     "execution_count": 69,
     "metadata": {},
     "output_type": "execute_result"
    }
   ],
   "source": [
    "one_sd_proportion,two_sd_proportion,three_sd_proportion"
   ]
  },
  {
   "cell_type": "code",
   "execution_count": 78,
   "id": "ef30dc99",
   "metadata": {},
   "outputs": [
    {
     "data": {
      "image/png": "[encoded data removed]",
      "text/plain": [
       "<Figure size 640x480 with 1 Axes>"
      ]
     },
     "metadata": {},
     "output_type": "display_data"
    },
    {
     "data": {
      "image/png": "[encoded data removed]",
      "text/plain": [
       "<Figure size 640x480 with 1 Axes>"
      ]
     },
     "metadata": {},
     "output_type": "display_data"
    },
    {
     "data": {
      "image/png": "[encoded data removed]",
      "text/plain": [
       "<Figure size 640x480 with 1 Axes>"
      ]
     },
     "metadata": {},
     "output_type": "display_data"
    },
    {
     "data": {
      "image/png": "[encoded data removed]",
      "text/plain": [
       "<Figure size 640x480 with 1 Axes>"
      ]
     },
     "metadata": {},
     "output_type": "display_data"
    },
    {
     "data": {
      "image/png": "[encoded data removed]",
      "text/plain": [
       "<Figure size 640x480 with 1 Axes>"
      ]
     },
     "metadata": {},
     "output_type": "display_data"
    }
   ],
   "source": [
    "for feature in df.select_dtypes(include=['number']):\n",
    "    plt.hist(df[feature])\n",
    "    plt.title(feature)\n",
    "    plt.show()"
   ]
  },
  {
   "cell_type": "markdown",
   "id": "2aed78d3",
   "metadata": {},
   "source": [
    "# Question 3\n",
    "Now use a 3 sigma decision rule to isolate the outliers in the normally distributed columns from lemonade.csv"
   ]
  },
  {
   "cell_type": "code",
   "execution_count": 80,
   "id": "44082e4b",
   "metadata": {},
   "outputs": [],
   "source": [
    "normal_features = ['Temperature','Rainfall','Flyers']"
   ]
  },
  {
   "cell_type": "code",
   "execution_count": 86,
   "id": "81eb440a",
   "metadata": {},
   "outputs": [],
   "source": [
    "def isolate_outliers(df):\n",
    "    SD = df.std()\n",
    "    norm_median = df.median()\n",
    "    \n",
    "    outside_of_three_sd = df[(df <= (norm_median-(SD*3))) & (df >= (norm_median+(SD*3)))]\n",
    "    \n",
    "    return outside_of_three_sd"
   ]
  },
  {
   "cell_type": "code",
   "execution_count": 87,
   "id": "fec85adf",
   "metadata": {},
   "outputs": [
    {
     "data": {
      "text/plain": [
       "Series([], Name: Flyers, dtype: int64)"
      ]
     },
     "execution_count": 87,
     "metadata": {},
     "output_type": "execute_result"
    }
   ],
   "source": [
    "isolate_outliers(df['Flyers'])"
   ]
  },
  {
   "cell_type": "code",
   "execution_count": 102,
   "id": "61b06ede",
   "metadata": {},
   "outputs": [
    {
     "name": "stdout",
     "output_type": "stream",
     "text": [
      "Outliers in Temperature:\n",
      "Empty DataFrame\n",
      "Columns: [Date, Day, Temperature, Rainfall, Flyers, Price, Sales]\n",
      "Index: []\n",
      "\n",
      "Outliers in Rainfall:\n",
      "Empty DataFrame\n",
      "Columns: [Date, Day, Temperature, Rainfall, Flyers, Price, Sales]\n",
      "Index: []\n",
      "\n",
      "Outliers in Flyers:\n",
      "Empty DataFrame\n",
      "Columns: [Date, Day, Temperature, Rainfall, Flyers, Price, Sales]\n",
      "Index: []\n",
      "\n"
     ]
    }
   ],
   "source": [
    "for i in normal_features:\n",
    "    print(f\"Outliers in {i}:\")\n",
    "    norm = df[i]\n",
    "    norm_median = norm.median()\n",
    "    SD = norm.std()\n",
    "    outside_of_three_sd = df[(norm <= (norm_median-(SD*3))) & (norm >= (norm_median+(SD*3)))]\n",
    "    print(outside_of_three_sd)\n",
    "    print()"
   ]
  }
 ],
 "metadata": {
  "kernelspec": {
   "display_name": "Python 3 (ipykernel)",
   "language": "python",
   "name": "python3"
  },
  "language_info": {
   "codemirror_mode": {
    "name": "ipython",
    "version": 3
   },
   "file_extension": ".py",
   "mimetype": "text/x-python",
   "name": "python",
   "nbconvert_exporter": "python",
   "pygments_lexer": "ipython3",
   "version": "3.9.15"
  }
 },
 "nbformat": 4,
 "nbformat_minor": 5
}

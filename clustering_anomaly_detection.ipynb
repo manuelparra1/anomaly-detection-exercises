{
 "cells": [
  {
   "cell_type": "markdown",
   "id": "2200cc1e",
   "metadata": {},
   "source": [
    "Clustering - DBSCAN\n",
    "\n",
    "    Use DBSCAN to detect anomalies in other products from the customers dataset. The database name is grocery_db.\n",
    "    Use DBSCAN to detect anomalies in requests from the curriculum access logs in the curriculum_logs database.\n",
    "    Use DBSCAN to detect anomalies in number of bedrooms and finished square feet of property for the filtered dataset you used in the clustering project (single unit properties with a logerror).\n"
   ]
  },
  {
   "cell_type": "code",
   "execution_count": null,
   "id": "31948808",
   "metadata": {},
   "outputs": [],
   "source": []
  }
 ],
 "metadata": {
  "kernelspec": {
   "display_name": "Python 3 (ipykernel)",
   "language": "python",
   "name": "python3"
  },
  "language_info": {
   "codemirror_mode": {
    "name": "ipython",
    "version": 3
   },
   "file_extension": ".py",
   "mimetype": "text/x-python",
   "name": "python",
   "nbconvert_exporter": "python",
   "pygments_lexer": "ipython3",
   "version": "3.9.15"
  }
 },
 "nbformat": 4,
 "nbformat_minor": 5
}
